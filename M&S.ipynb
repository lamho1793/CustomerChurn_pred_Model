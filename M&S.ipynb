{
 "cells": [
  {
   "cell_type": "code",
   "execution_count": 8,
   "metadata": {},
   "outputs": [],
   "source": [
    "def solution(s: str) -> str:\n",
    "    if len(s) == 0:\n",
    "        return \"other\"\n",
    "\n",
    "    c = s[0]\n",
    "    if c.isdigit():\n",
    "        return \"digit\"\n",
    "    elif c.islower():\n",
    "        return \"lower\"\n",
    "    elif c.isupper():\n",
    "        return \"upper\"\n",
    "    else:\n",
    "        return \"other\"\n"
   ]
  },
  {
   "cell_type": "code",
   "execution_count": 10,
   "metadata": {},
   "outputs": [
    {
     "name": "stdout",
     "output_type": "stream",
     "text": [
      "lower\n",
      "digit\n",
      "upper\n",
      "other\n",
      "lower\n"
     ]
    }
   ],
   "source": [
    "print(solution(\"abc\")) # prints \"lower\"\n",
    "print(solution(\"123\")) # prints \"digit\"\n",
    "print(solution(\"ABC\")) # prints \"upper\"\n",
    "print(solution(\"!@#$\"))\n",
    "print(solution(\"q@#$\")) # prints \"other\"\n"
   ]
  },
  {
   "cell_type": "code",
   "execution_count": 4,
   "metadata": {},
   "outputs": [],
   "source": [
    "def solution(riddle: str) -> str:\n",
    "    sb = \"\"\n",
    "    prev = ' '\n",
    "    for c in riddle:\n",
    "        if c == '?':\n",
    "            # Generate a letter that is different from the previous one\n",
    "            if prev == ' ' or prev == 'z':\n",
    "                letter = 'a'\n",
    "            else:\n",
    "                letter = chr(ord(prev) + 1)\n",
    "            sb += letter\n",
    "            prev = letter\n",
    "        else:\n",
    "            sb += c\n",
    "            prev = c\n",
    "    return sb"
   ]
  },
  {
   "cell_type": "code",
   "execution_count": 8,
   "metadata": {},
   "outputs": [
    {
     "name": "stdout",
     "output_type": "stream",
     "text": [
      "abcacd\n",
      "rdeefwghi\n",
      "abcdefghijklmn\n"
     ]
    }
   ],
   "source": [
    "print(solution(\"ab?ac?\"))  # prints \"abcaca\"\n",
    "print(solution(\"rd?e?wg??\"))  # prints \"rdveawgab\"\n",
    "print(solution(\"??????????????\"))  # prints \"abcdefghijklmnopqrstuvwxyz\"\n"
   ]
  },
  {
   "cell_type": "code",
   "execution_count": 3,
   "metadata": {},
   "outputs": [],
   "source": [
    "def solution(riddle: str) -> str:\n",
    "    sb = \"\"\n",
    "    prev = ' '\n",
    "    Len=len(riddle)\n",
    "    for i in range(Len):\n",
    "        if riddle[i] == '?':\n",
    "            # Generate a letter that is different from the previous one\n",
    "            if prev == ' ' or prev == 'z':\n",
    "                letter = 'a'\n",
    "            else:\n",
    "                letter = chr(ord(prev) + 1)\n",
    "            if i!=Len-1 and letter==riddle[i+1]:\n",
    "                letter = chr(ord(letter) + 1)\n",
    "            sb += letter\n",
    "            prev = letter\n",
    "        else:\n",
    "            sb += riddle[i]\n",
    "            prev = riddle[i]\n",
    "    return sb"
   ]
  },
  {
   "cell_type": "code",
   "execution_count": 4,
   "metadata": {},
   "outputs": [
    {
     "name": "stdout",
     "output_type": "stream",
     "text": [
      "azbacd\n",
      "rdfefwghi\n",
      "abcdefghijklmn\n"
     ]
    }
   ],
   "source": [
    "print(solution(\"az?ac?\"))  # prints \"abcaca\"\n",
    "print(solution(\"rd?e?wg??\"))  # prints \"rdveawgab\"\n",
    "print(solution(\"??????????????\"))  # prints \"abcdefghijklmnopqrstuvwxyz\""
   ]
  },
  {
   "cell_type": "code",
   "execution_count": 4,
   "metadata": {},
   "outputs": [
    {
     "data": {
      "text/plain": [
       "'{'"
      ]
     },
     "execution_count": 4,
     "metadata": {},
     "output_type": "execute_result"
    }
   ],
   "source": [
    "chr(ord(\"z\")+1)"
   ]
  },
  {
   "cell_type": "code",
   "execution_count": 5,
   "metadata": {},
   "outputs": [],
   "source": [
    "def solution(S: str, K: int) -> str:\n",
    "    days = [\"Mon\", \"Tue\", \"Wed\", \"Thu\", \"Fri\", \"Sat\", \"Sun\"]\n",
    "    # Find the index of the current day\n",
    "    idx = days.index(S)\n",
    "    # Add K days to the index and take the modulo 7 to wrap around to the beginning of the week\n",
    "    idx = (idx + K) % 7\n",
    "    # Return the day of the week at the new index\n",
    "    return days[idx]\n"
   ]
  },
  {
   "cell_type": "code",
   "execution_count": 7,
   "metadata": {},
   "outputs": [
    {
     "name": "stdout",
     "output_type": "stream",
     "text": [
      "Fri\n",
      "Mon\n",
      "Fri\n"
     ]
    }
   ],
   "source": [
    "print(solution(\"Wed\", 2))  # prints \"Fri\"\n",
    "print(solution(\"Sat\", 23))\n",
    "print(solution(\"Tue\", 10))"
   ]
  }
 ],
 "metadata": {
  "kernelspec": {
   "display_name": "Python 3.9.2 64-bit",
   "language": "python",
   "name": "python3"
  },
  "language_info": {
   "codemirror_mode": {
    "name": "ipython",
    "version": 3
   },
   "file_extension": ".py",
   "mimetype": "text/x-python",
   "name": "python",
   "nbconvert_exporter": "python",
   "pygments_lexer": "ipython3",
   "version": "3.9.2"
  },
  "orig_nbformat": 4,
  "vscode": {
   "interpreter": {
    "hash": "aee8b7b246df8f9039afb4144a1f6fd8d2ca17a180786b69acc140d282b71a49"
   }
  }
 },
 "nbformat": 4,
 "nbformat_minor": 2
}
